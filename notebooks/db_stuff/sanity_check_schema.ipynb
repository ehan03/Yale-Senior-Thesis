{
 "cells": [
  {
   "cell_type": "code",
   "execution_count": 39,
   "metadata": {},
   "outputs": [],
   "source": [
    "import os\n",
    "import pandas as pd\n",
    "\n",
    "data_dir = os.path.join(os.path.dirname(\"__file__\"), \"..\", \"..\", \"data\")\n",
    "clean_data_dir = os.path.join(data_dir, \"clean\")"
   ]
  },
  {
   "cell_type": "code",
   "execution_count": 38,
   "metadata": {},
   "outputs": [
    {
     "data": {
      "text/plain": [
       "id             0\n",
       "date           0\n",
       "name           0\n",
       "venue_id       0\n",
       "location       0\n",
       "attendance    98\n",
       "dtype: int64"
      ]
     },
     "execution_count": 38,
     "metadata": {},
     "output_type": "execute_result"
    }
   ],
   "source": [
    "df = pd.read_csv(os.path.join(clean_data_dir, \"Wikipedia\", \"events.csv\"))\n",
    "df.isnull().sum()"
   ]
  },
  {
   "cell_type": "code",
   "execution_count": 47,
   "metadata": {},
   "outputs": [],
   "source": [
    "sherdog_events = pd.read_csv(os.path.join(clean_data_dir, \"Sherdog\", \"events.csv\"))\n",
    "sherdog_events = sherdog_events.drop_duplicates(keep=\"last\", subset=[\"id\"]).reset_index(drop=True)\n",
    "sherdog_events[\"event_order\"] = sherdog_events[\"event_order\"].astype(\"Int64\")\n",
    "sherdog_events.to_csv(os.path.join(clean_data_dir, \"Sherdog\", \"events.csv\"), index=False)"
   ]
  }
 ],
 "metadata": {
  "kernelspec": {
   "display_name": "thesis",
   "language": "python",
   "name": "python3"
  },
  "language_info": {
   "codemirror_mode": {
    "name": "ipython",
    "version": 3
   },
   "file_extension": ".py",
   "mimetype": "text/x-python",
   "name": "python",
   "nbconvert_exporter": "python",
   "pygments_lexer": "ipython3",
   "version": "3.12.8"
  }
 },
 "nbformat": 4,
 "nbformat_minor": 2
}
