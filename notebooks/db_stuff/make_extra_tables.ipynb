{
 "cells": [
  {
   "cell_type": "code",
   "execution_count": 1,
   "metadata": {},
   "outputs": [],
   "source": [
    "# standard library imports\n",
    "import os\n",
    "import zipfile\n",
    "\n",
    "# third party imports\n",
    "import numpy as np\n",
    "import pandas as pd\n",
    "\n",
    "# local imports\n",
    "\n",
    "\n",
    "data_dir = os.path.join(os.path.dirname(\"__file__\"), \"..\", \"..\", \"data\")\n",
    "raw_data_dir = os.path.join(data_dir, \"raw\")\n",
    "clean_data_dir = os.path.join(data_dir, \"clean\")"
   ]
  },
  {
   "cell_type": "code",
   "execution_count": 8,
   "metadata": {},
   "outputs": [],
   "source": [
    "bestfightodds_prop_odds = pd.read_csv(os.path.join(raw_data_dir, \"Best Fight Odds\", \"closing_with_props.csv\"), parse_dates=[\"Card_Date\"])\n",
    "\n",
    "# drop bad events\n",
    "bad_events = [\n",
    "    \"UFC 9: Motor City Madness\",\n",
    "    \"UFC 14: Showdown\",\n",
    "    \"UFC 15: Collision Course\",\n",
    "    \"UFC 18: The Road to the Heavyweight Title\",\n",
    "    'UFC 32: Showdown in the Meadowlands',\n",
    "    'UFC 35: Throwdown',\n",
    "    'UFC 48: Payback',\n",
    "    'UFC 53: Heavy Hitters',\n",
    "    'UFC 56: Full Force',\n",
    "]\n",
    "bestfightodds_prop_odds = bestfightodds_prop_odds.loc[~bestfightodds_prop_odds[\"Event\"].isin(bad_events)]\n",
    "\n",
    "# fix event urls\n",
    "bestfightodds_prop_odds.loc[bestfightodds_prop_odds[\"Event\"] == \"UFC 73: Stacked\", \"url\"] = \"https://www.bestfightodds.com/events/ufc-73-stacked-1\"\n",
    "bestfightodds_prop_odds.loc[bestfightodds_prop_odds[\"Event\"] == \"UFC 74: Respect\", \"url\"] = \"https://www.bestfightodds.com/events/ufc-74-respect-7\"\n",
    "bestfightodds_prop_odds.loc[bestfightodds_prop_odds[\"Event\"] == \"UFC 76: Knockout\", \"url\"] = \"https://www.bestfightodds.com/events/ufc-76-knockout-12\"\n",
    "bestfightodds_prop_odds.loc[bestfightodds_prop_odds[\"Event\"] == \"UFC 84: Ill Will\", \"url\"] = \"https://www.bestfightodds.com/events/ufc-84-ill-will-47\"\n",
    "bestfightodds_prop_odds.loc[bestfightodds_prop_odds[\"Event\"] == \"UFC 85: Bedlam\", \"url\"] = \"https://www.bestfightodds.com/events/ufc-85-bedlam-46\"\n",
    "bestfightodds_prop_odds.loc[bestfightodds_prop_odds[\"Event\"] == \"UFC 87: Seek and Destroy\", \"url\"] = \"https://www.bestfightodds.com/events/ufc-87-seek-and-destroy-57\"\n",
    "bestfightodds_prop_odds.loc[bestfightodds_prop_odds[\"Event\"] == \"UFC 99: The Comeback\", \"url\"] = \"https://www.bestfightodds.com/events/ufc-99-the-comeback-136\"\n",
    "bestfightodds_prop_odds.loc[bestfightodds_prop_odds[\"Event\"] == \"UFC 100\", \"url\"] = \"https://www.bestfightodds.com/events/ufc-100-137\"\n",
    "bestfightodds_prop_odds.loc[bestfightodds_prop_odds[\"Event\"] == \"UFC 101: Declaration\", \"url\"] = \"https://www.bestfightodds.com/events/ufc-101-declaration-145\"\n",
    "bestfightodds_prop_odds.loc[bestfightodds_prop_odds[\"Event\"] == \"UFC 109: Relentless\", \"url\"] = \"https://www.bestfightodds.com/events/ufc-109-relentless-226\"\n",
    "bestfightodds_prop_odds.loc[bestfightodds_prop_odds[\"Event\"] == \"UFC 112: Invincible\", \"url\"] = \"https://www.bestfightodds.com/events/ufc-112-invincible-245\"\n",
    "bestfightodds_prop_odds.loc[bestfightodds_prop_odds[\"Event\"] == \"UFC 119: Mir vs. Cro Cop\", \"url\"] = \"https://www.bestfightodds.com/events/ufc-119-mir-vs-cro-cop-296\"\n",
    "\n",
    "bestfightodds_prop_odds[\"event_id\"] = bestfightodds_prop_odds[\"url\"].str.split(\"/\").str[-1].str.split(\"-\").str[-1].astype(int)\n",
    "bestfightodds_prop_odds = bestfightodds_prop_odds.rename(columns={\"William_H\": \"William Hill\"})\n",
    "\n",
    "df = bestfightodds_prop_odds[[\"event_id\", \"Event\"]].rename(columns={\"Event\": \"name\"}).drop_duplicates()\n",
    "df = df.sort_values(\"event_id\").reset_index(drop=True)\n",
    "df.to_csv(os.path.join(clean_data_dir, \"Best Fight Odds\", \"events.csv\"), index=False)"
   ]
  },
  {
   "cell_type": "code",
   "execution_count": 15,
   "metadata": {},
   "outputs": [],
   "source": [
    "bestfightodds_fighters = pd.read_csv(os.path.join(clean_data_dir, \"Tapology\", \"fighters.csv\"))[[\"bestfightodds_id\", \"name\", \"nickname\"]]\n",
    "bestfightodds_fighters = bestfightodds_fighters.rename(columns={\"bestfightodds_id\": \"id\"})\n",
    "bestfightodds_fighters = bestfightodds_fighters.dropna(subset=[\"id\"])\n",
    "bestfightodds_fighters[\"id\"] = bestfightodds_fighters[\"id\"].astype(int)\n",
    "bestfightodds_fighters = bestfightodds_fighters.sort_values(\"id\").reset_index(drop=True)\n",
    "bestfightodds_fighters.to_csv(os.path.join(clean_data_dir, \"Best Fight Odds\", \"fighters.csv\"), index=False)"
   ]
  }
 ],
 "metadata": {
  "kernelspec": {
   "display_name": "thesis",
   "language": "python",
   "name": "python3"
  },
  "language_info": {
   "codemirror_mode": {
    "name": "ipython",
    "version": 3
   },
   "file_extension": ".py",
   "mimetype": "text/x-python",
   "name": "python",
   "nbconvert_exporter": "python",
   "pygments_lexer": "ipython3",
   "version": "3.12.8"
  }
 },
 "nbformat": 4,
 "nbformat_minor": 2
}
