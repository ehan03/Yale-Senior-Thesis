{
 "cells": [
  {
   "cell_type": "code",
   "execution_count": 2,
   "metadata": {},
   "outputs": [],
   "source": [
    "# standard library imports\n",
    "import os\n",
    "\n",
    "# third party imports\n",
    "import pandas as pd\n",
    "\n",
    "# local imports\n",
    "\n",
    "\n",
    "data_dir = os.path.join(os.path.dirname(\"__file__\"), \"..\", \"..\", \"data\")\n",
    "clean_data_dir = os.path.join(data_dir, \"clean\")"
   ]
  },
  {
   "cell_type": "code",
   "execution_count": 16,
   "metadata": {},
   "outputs": [
    {
     "data": {
      "text/html": [
       "<div>\n",
       "<style scoped>\n",
       "    .dataframe tbody tr th:only-of-type {\n",
       "        vertical-align: middle;\n",
       "    }\n",
       "\n",
       "    .dataframe tbody tr th {\n",
       "        vertical-align: top;\n",
       "    }\n",
       "\n",
       "    .dataframe thead th {\n",
       "        text-align: right;\n",
       "    }\n",
       "</style>\n",
       "<table border=\"1\" class=\"dataframe\">\n",
       "  <thead>\n",
       "    <tr style=\"text-align: right;\">\n",
       "      <th></th>\n",
       "      <th>id</th>\n",
       "      <th>name</th>\n",
       "      <th>date</th>\n",
       "      <th>location</th>\n",
       "      <th>event_order</th>\n",
       "    </tr>\n",
       "  </thead>\n",
       "  <tbody>\n",
       "    <tr>\n",
       "      <th>0</th>\n",
       "      <td>6420efac0578988b</td>\n",
       "      <td>UFC 1: The Beginning</td>\n",
       "      <td>1993-11-12</td>\n",
       "      <td>Denver, Colorado, USA</td>\n",
       "      <td>1</td>\n",
       "    </tr>\n",
       "    <tr>\n",
       "      <th>1</th>\n",
       "      <td>a6a9ab5a824e8f66</td>\n",
       "      <td>UFC 2: No Way Out</td>\n",
       "      <td>1994-03-11</td>\n",
       "      <td>Denver, Colorado, USA</td>\n",
       "      <td>2</td>\n",
       "    </tr>\n",
       "    <tr>\n",
       "      <th>2</th>\n",
       "      <td>1a49e0670dfaca31</td>\n",
       "      <td>UFC 3: The American Dream</td>\n",
       "      <td>1994-09-09</td>\n",
       "      <td>Charlotte, North Carolina, USA</td>\n",
       "      <td>3</td>\n",
       "    </tr>\n",
       "    <tr>\n",
       "      <th>3</th>\n",
       "      <td>b60391da771deefe</td>\n",
       "      <td>UFC 4: Revenge of the Warriors</td>\n",
       "      <td>1994-12-16</td>\n",
       "      <td>Tulsa, Oklahoma, USA</td>\n",
       "      <td>4</td>\n",
       "    </tr>\n",
       "    <tr>\n",
       "      <th>4</th>\n",
       "      <td>dedc3bb440d09554</td>\n",
       "      <td>UFC 5: The Return of the Beast</td>\n",
       "      <td>1995-04-07</td>\n",
       "      <td>Charlotte, North Carolina, USA</td>\n",
       "      <td>5</td>\n",
       "    </tr>\n",
       "    <tr>\n",
       "      <th>...</th>\n",
       "      <td>...</td>\n",
       "      <td>...</td>\n",
       "      <td>...</td>\n",
       "      <td>...</td>\n",
       "      <td>...</td>\n",
       "    </tr>\n",
       "    <tr>\n",
       "      <th>711</th>\n",
       "      <td>585f9ffdb0cd0466</td>\n",
       "      <td>UFC Fight Night: Magny vs. Prates</td>\n",
       "      <td>2024-11-09</td>\n",
       "      <td>Las Vegas, Nevada, USA</td>\n",
       "      <td>712</td>\n",
       "    </tr>\n",
       "    <tr>\n",
       "      <th>712</th>\n",
       "      <td>daff32bc96d1eabf</td>\n",
       "      <td>UFC 309: Jones vs. Miocic</td>\n",
       "      <td>2024-11-16</td>\n",
       "      <td>New York City, New York, USA</td>\n",
       "      <td>713</td>\n",
       "    </tr>\n",
       "    <tr>\n",
       "      <th>713</th>\n",
       "      <td>e955046551f8c7dd</td>\n",
       "      <td>UFC Fight Night: Yan vs. Figueiredo</td>\n",
       "      <td>2024-11-23</td>\n",
       "      <td>Macau, China</td>\n",
       "      <td>714</td>\n",
       "    </tr>\n",
       "    <tr>\n",
       "      <th>714</th>\n",
       "      <td>ad23903ef3af7406</td>\n",
       "      <td>UFC 310: Pantoja vs. Asakura</td>\n",
       "      <td>2024-12-07</td>\n",
       "      <td>Las Vegas, Nevada, USA</td>\n",
       "      <td>715</td>\n",
       "    </tr>\n",
       "    <tr>\n",
       "      <th>715</th>\n",
       "      <td>72c9c2eadfc3277e</td>\n",
       "      <td>UFC Fight Night: Covington vs. Buckley</td>\n",
       "      <td>2024-12-14</td>\n",
       "      <td>Tampa, Florida, USA</td>\n",
       "      <td>716</td>\n",
       "    </tr>\n",
       "  </tbody>\n",
       "</table>\n",
       "<p>716 rows × 5 columns</p>\n",
       "</div>"
      ],
      "text/plain": [
       "                   id                                    name       date  \\\n",
       "0    6420efac0578988b                    UFC 1: The Beginning 1993-11-12   \n",
       "1    a6a9ab5a824e8f66                       UFC 2: No Way Out 1994-03-11   \n",
       "2    1a49e0670dfaca31               UFC 3: The American Dream 1994-09-09   \n",
       "3    b60391da771deefe          UFC 4: Revenge of the Warriors 1994-12-16   \n",
       "4    dedc3bb440d09554          UFC 5: The Return of the Beast 1995-04-07   \n",
       "..                ...                                     ...        ...   \n",
       "711  585f9ffdb0cd0466       UFC Fight Night: Magny vs. Prates 2024-11-09   \n",
       "712  daff32bc96d1eabf               UFC 309: Jones vs. Miocic 2024-11-16   \n",
       "713  e955046551f8c7dd     UFC Fight Night: Yan vs. Figueiredo 2024-11-23   \n",
       "714  ad23903ef3af7406            UFC 310: Pantoja vs. Asakura 2024-12-07   \n",
       "715  72c9c2eadfc3277e  UFC Fight Night: Covington vs. Buckley 2024-12-14   \n",
       "\n",
       "                           location  event_order  \n",
       "0             Denver, Colorado, USA            1  \n",
       "1             Denver, Colorado, USA            2  \n",
       "2    Charlotte, North Carolina, USA            3  \n",
       "3              Tulsa, Oklahoma, USA            4  \n",
       "4    Charlotte, North Carolina, USA            5  \n",
       "..                              ...          ...  \n",
       "711          Las Vegas, Nevada, USA          712  \n",
       "712    New York City, New York, USA          713  \n",
       "713                    Macau, China          714  \n",
       "714          Las Vegas, Nevada, USA          715  \n",
       "715             Tampa, Florida, USA          716  \n",
       "\n",
       "[716 rows x 5 columns]"
      ]
     },
     "execution_count": 16,
     "metadata": {},
     "output_type": "execute_result"
    }
   ],
   "source": [
    "ufcstats_events = pd.read_csv(os.path.join(clean_data_dir, \"UFC Stats\", \"events.csv\"), parse_dates=[\"date\"])\n",
    "ufcstats_events = ufcstats_events.loc[ufcstats_events[\"is_ufc_event\"] == 1].drop(columns=[\"is_ufc_event\"]).reset_index(drop=True)\n",
    "ufcstats_events[\"event_order\"] = ufcstats_events[\"event_order\"].astype(int)\n",
    "ufcstats_events"
   ]
  },
  {
   "cell_type": "markdown",
   "metadata": {},
   "source": [
    "## Tapology, Sherdog, Best Fight Odds"
   ]
  },
  {
   "cell_type": "code",
   "execution_count": 47,
   "metadata": {},
   "outputs": [],
   "source": [
    "tapology_events = pd.read_csv(os.path.join(clean_data_dir, \"Tapology\", \"events.csv\"))\n",
    "\n",
    "# For available ids, all match up in event order, so good to go\n",
    "# temp = tapology_events.loc[tapology_events[\"ufcstats_id\"].notnull()]\n",
    "# temp2 = ufcstats_events.loc[ufcstats_events[\"event_order\"] > 41]\n",
    "# all(temp[\"ufcstats_id\"] == temp2[\"id\"])\n",
    "\n",
    "matching1 = pd.DataFrame(\n",
    "    {\n",
    "        \"ufcstats_id\": ufcstats_events[\"id\"].values,\n",
    "        \"tapology_id\": tapology_events[\"id\"].values,\n",
    "        \"sherdog_id\": tapology_events[\"sherdog_id\"].values,\n",
    "        \"bestfightodds_id\": tapology_events[\"bestfightodds_id\"].values,\n",
    "    }\n",
    ")\n",
    "matching1[\"bestfightodds_id\"] = matching1[\"bestfightodds_id\"].astype(\"Int64\")"
   ]
  },
  {
   "cell_type": "markdown",
   "metadata": {},
   "source": [
    "## Wikipedia"
   ]
  },
  {
   "cell_type": "code",
   "execution_count": 49,
   "metadata": {},
   "outputs": [],
   "source": [
    "wikipedia_events = pd.read_csv(os.path.join(clean_data_dir, \"Wikipedia\", \"events.csv\"), parse_dates=[\"date\"])\n",
    "\n",
    "# wikipedia and ufcstats events are in the same order already\n",
    "matching2 = pd.DataFrame(\n",
    "    {\n",
    "        \"ufcstats_id\": ufcstats_events[\"id\"].values,\n",
    "        \"wikipedia_id\": wikipedia_events[\"id\"].values,\n",
    "    }\n",
    ")"
   ]
  },
  {
   "cell_type": "markdown",
   "metadata": {},
   "source": [
    "## Fight Matrix"
   ]
  },
  {
   "cell_type": "code",
   "execution_count": 139,
   "metadata": {},
   "outputs": [],
   "source": [
    "fightmatrix_events = pd.read_csv(os.path.join(clean_data_dir, \"Fight Matrix\", \"events.csv\"), parse_dates=[\"date\"])\n",
    "fightmatrix_events = fightmatrix_events.loc[fightmatrix_events[\"is_ufc_event\"] == 1].drop(columns=[\"is_ufc_event\"]).reset_index(drop=True)\n",
    "fightmatrix_events[\"event_order\"] = fightmatrix_events[\"event_order\"].astype(int)\n",
    "\n",
    "# swap 222 and 223 event orders\n",
    "fightmatrix_events.loc[fightmatrix_events[\"event_order\"] == 222, \"event_order\"] = -99\n",
    "fightmatrix_events.loc[fightmatrix_events[\"event_order\"] == 223, \"event_order\"] = 222\n",
    "fightmatrix_events.loc[fightmatrix_events[\"event_order\"] == -99, \"event_order\"] = 223\n",
    "fightmatrix_events = fightmatrix_events.sort_values(\"event_order\").reset_index(drop=True)\n",
    "\n",
    "matching3 = pd.DataFrame(\n",
    "    {\n",
    "        \"ufcstats_id\": ufcstats_events[\"id\"].values,\n",
    "        \"fightmatrix_id\": fightmatrix_events[\"id\"].values,\n",
    "    }\n",
    ")"
   ]
  },
  {
   "cell_type": "markdown",
   "metadata": {},
   "source": [
    "## ESPN"
   ]
  },
  {
   "cell_type": "code",
   "execution_count": 67,
   "metadata": {},
   "outputs": [],
   "source": [
    "espn_events = pd.read_csv(os.path.join(clean_data_dir, \"ESPN\", \"events.csv\"), parse_dates=[\"date\"])\n",
    "\n",
    "# event order already matches\n",
    "matching4 = pd.DataFrame(\n",
    "    {\n",
    "        \"ufcstats_id\": ufcstats_events[\"id\"].values,\n",
    "        \"espn_id\": espn_events[\"id\"].values,\n",
    "    }\n",
    ")"
   ]
  },
  {
   "cell_type": "markdown",
   "metadata": {},
   "source": [
    "## FightOdds.io"
   ]
  },
  {
   "cell_type": "code",
   "execution_count": 74,
   "metadata": {},
   "outputs": [],
   "source": [
    "fightoddsio_events = pd.read_csv(os.path.join(clean_data_dir, \"FightOdds.io\", \"events.csv\"), parse_dates=[\"date\"])\n",
    "\n",
    "# event order already matches\n",
    "matching5 = pd.DataFrame(\n",
    "    {\n",
    "        \"ufcstats_id\": ufcstats_events[\"id\"].values,\n",
    "        \"fightoddsio_id\": fightoddsio_events[\"id\"].values,\n",
    "    }\n",
    ")"
   ]
  },
  {
   "cell_type": "markdown",
   "metadata": {},
   "source": [
    "## MMA Decisions"
   ]
  },
  {
   "cell_type": "code",
   "execution_count": 151,
   "metadata": {},
   "outputs": [],
   "source": [
    "mmadecisions_events = pd.read_csv(os.path.join(clean_data_dir, \"MMA Decisions\", \"events.csv\"), parse_dates=[\"date\"])\n",
    "mmadecisions_events = mmadecisions_events.loc[mmadecisions_events[\"promotion\"] == \"UFC\"].reset_index(drop=True)\n",
    "\n",
    "# swap 392 and 393 event orders\n",
    "mmadecisions_events.loc[mmadecisions_events[\"event_order\"] == 392, \"event_order\"] = -99\n",
    "mmadecisions_events.loc[mmadecisions_events[\"event_order\"] == 393, \"event_order\"] = 392\n",
    "mmadecisions_events.loc[mmadecisions_events[\"event_order\"] == -99, \"event_order\"] = 393\n",
    "mmadecisions_events = mmadecisions_events.sort_values(\"event_order\").reset_index(drop=True)\n",
    "\n",
    "event_orders_no_decisions = [1, 2, 3, 4, 6, 13, 45, 93, 296, 616]\n",
    "temp = ufcstats_events.loc[~ufcstats_events[\"event_order\"].isin(event_orders_no_decisions)].reset_index(drop=True)\n",
    "\n",
    "matching6 = pd.DataFrame(\n",
    "    {\n",
    "        \"ufcstats_id\": temp[\"id\"].values,\n",
    "        \"mmadecisions_id\": mmadecisions_events[\"id\"].values,\n",
    "    }\n",
    ")"
   ]
  },
  {
   "cell_type": "markdown",
   "metadata": {},
   "source": [
    "## Bet MMA"
   ]
  },
  {
   "cell_type": "code",
   "execution_count": 163,
   "metadata": {},
   "outputs": [],
   "source": [
    "betmma_events = pd.read_csv(os.path.join(clean_data_dir, \"Bet MMA\", \"events.csv\"), parse_dates=[\"date\"])\n",
    "betmma_events = betmma_events.loc[betmma_events[\"is_ufc_event\"] == 1].drop(columns=[\"is_ufc_event\"]).reset_index(drop=True)\n",
    "betmma_events[\"event_order\"] = betmma_events[\"event_order\"].astype(int)\n",
    "\n",
    "# swap 274 and 275 event orders\n",
    "betmma_events.loc[betmma_events[\"event_order\"] == 274, \"event_order\"] = -99\n",
    "betmma_events.loc[betmma_events[\"event_order\"] == 275, \"event_order\"] = 274\n",
    "betmma_events.loc[betmma_events[\"event_order\"] == -99, \"event_order\"] = 275\n",
    "betmma_events = betmma_events.sort_values(\"event_order\").reset_index(drop=True)\n",
    "\n",
    "temp2 = ufcstats_events.loc[ufcstats_events[\"event_order\"] > 233].reset_index(drop=True)\n",
    "\n",
    "matching7 = pd.DataFrame(\n",
    "    {\n",
    "        \"ufcstats_id\": temp2[\"id\"].values,\n",
    "        \"betmma_id\": betmma_events[\"id\"].values,\n",
    "    }\n",
    ")"
   ]
  },
  {
   "cell_type": "code",
   "execution_count": 180,
   "metadata": {},
   "outputs": [],
   "source": [
    "# create final matching dataframe\n",
    "matching = matching1.merge(matching2, on=\"ufcstats_id\", how=\"left\")\n",
    "matching = matching.merge(matching3, on=\"ufcstats_id\", how=\"left\")\n",
    "matching = matching.merge(matching4, on=\"ufcstats_id\", how=\"left\")\n",
    "matching = matching.merge(matching5, on=\"ufcstats_id\", how=\"left\")\n",
    "matching = matching.merge(matching6, on=\"ufcstats_id\", how=\"left\")\n",
    "matching = matching.merge(matching7, on=\"ufcstats_id\", how=\"left\")\n",
    "matching[\"mmadecisions_id\"] = matching[\"mmadecisions_id\"].astype(\"Int64\")\n",
    "matching[\"betmma_id\"] = matching[\"betmma_id\"].astype(\"Int64\")\n",
    "matching = matching[\n",
    "    [\n",
    "        \"ufcstats_id\",\n",
    "        \"bestfightodds_id\",\n",
    "        \"betmma_id\",\n",
    "        \"espn_id\",\n",
    "        \"fightmatrix_id\",\n",
    "        \"fightoddsio_id\",\n",
    "        \"mmadecisions_id\",\n",
    "        \"sherdog_id\",\n",
    "        \"tapology_id\",\n",
    "        \"wikipedia_id\",\n",
    "    ]\n",
    "]\n",
    "matching.to_csv(os.path.join(clean_data_dir, \"events_linkage.csv\"), index=False)"
   ]
  }
 ],
 "metadata": {
  "kernelspec": {
   "display_name": "thesis",
   "language": "python",
   "name": "python3"
  },
  "language_info": {
   "codemirror_mode": {
    "name": "ipython",
    "version": 3
   },
   "file_extension": ".py",
   "mimetype": "text/x-python",
   "name": "python",
   "nbconvert_exporter": "python",
   "pygments_lexer": "ipython3",
   "version": "3.12.8"
  }
 },
 "nbformat": 4,
 "nbformat_minor": 2
}
