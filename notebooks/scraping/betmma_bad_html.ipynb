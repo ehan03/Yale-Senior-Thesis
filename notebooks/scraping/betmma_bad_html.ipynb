{
 "cells": [
  {
   "cell_type": "code",
   "execution_count": 1,
   "metadata": {},
   "outputs": [],
   "source": [
    "import re"
   ]
  },
  {
   "cell_type": "code",
   "execution_count": 5,
   "metadata": {},
   "outputs": [
    {
     "name": "stdout",
     "output_type": "stream",
     "text": [
      "\n",
      "<a href=\"http://example.com/test\"something'>Link 1</a>\n",
      "<a href=\"http://example.com/another\">Link 2</a>\n",
      "<a href=\"http://example.com/more\"test'>Link 3</a>\n",
      "\n"
     ]
    }
   ],
   "source": [
    "html = \"\"\"\n",
    "<a href='http://example.com/test'something'>Link 1</a>\n",
    "<a href='http://example.com/another'>Link 2</a>\n",
    "<a href='http://example.com/more'test'>Link 3</a>\n",
    "\"\"\"\n",
    "\n",
    "# Regex pattern to match <a> tags with href attributes enclosed in single quotes\n",
    "pattern = r\"(<a[^>]*?href=)'((?:[^']|\\\\')*)'\"\n",
    "\n",
    "# Replace single quotes around the href value with double quotes\n",
    "fixed_html = re.sub(pattern, r'\\1\"\\2\"', html)\n",
    "\n",
    "print(fixed_html)"
   ]
  },
  {
   "cell_type": "code",
   "execution_count": 7,
   "metadata": {},
   "outputs": [
    {
     "name": "stdout",
     "output_type": "stream",
     "text": [
      "\n",
      "<a href='ufc_betting_advice.php?Fight=117' Title='Free betting tips for Sean O'Connell vs Matt Van Buren'>\n",
      "\n"
     ]
    }
   ],
   "source": [
    "# Example of the bad HTML\n",
    "html = \"\"\"\n",
    "<a href='ufc_betting_advice.php?For=Sean_O'Connell_vs_Matt_Van Buren&Fight=117' Title='Free betting tips for Sean O'Connell vs Matt Van Buren'>\n",
    "\"\"\"\n",
    "\n",
    "# Regex pattern to match and remove the portion between \"ufc_betting_advice.php?\" and \"Fight=117\"\n",
    "pattern = r\"(ufc_betting_advice\\.php\\?).*?(Fight=\\d+)\"\n",
    "\n",
    "# Replace the matched portion with an empty string\n",
    "fixed_html = re.sub(pattern, r'\\1\\2', html)\n",
    "\n",
    "print(fixed_html)"
   ]
  },
  {
   "cell_type": "code",
   "execution_count": 8,
   "metadata": {},
   "outputs": [
    {
     "name": "stdout",
     "output_type": "stream",
     "text": [
      "\n",
      "<a href='fighter_profile.php?FID=236'Connell'>Sean O'Connell</a>\n",
      "\n"
     ]
    }
   ],
   "source": [
    "# Example HTML\n",
    "html = \"\"\"\n",
    "<a href='fighter_profile.php?FID=236&Name=Sean_O'Connell'>Sean O'Connell</a>\n",
    "\"\"\"\n",
    "\n",
    "# Regex pattern to match and remove everything after \"FID=<number>\" in the href\n",
    "pattern = r\"(FID=\\d+)[^']*\"\n",
    "\n",
    "# Replace the matched portion with just \"FID=<number>\"\n",
    "fixed_html = re.sub(pattern, r'\\1', html)\n",
    "\n",
    "print(fixed_html)"
   ]
  }
 ],
 "metadata": {
  "kernelspec": {
   "display_name": "thesis",
   "language": "python",
   "name": "python3"
  },
  "language_info": {
   "codemirror_mode": {
    "name": "ipython",
    "version": 3
   },
   "file_extension": ".py",
   "mimetype": "text/x-python",
   "name": "python",
   "nbconvert_exporter": "python",
   "pygments_lexer": "ipython3",
   "version": "3.12.8"
  }
 },
 "nbformat": 4,
 "nbformat_minor": 2
}
